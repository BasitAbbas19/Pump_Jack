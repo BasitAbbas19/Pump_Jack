{
 "cells": [
  {
   "cell_type": "markdown",
   "id": "01d05e1f",
   "metadata": {},
   "source": [
    "# Slope_Formula_Task"
   ]
  },
  {
   "cell_type": "code",
   "execution_count": 5,
   "id": "6871259d",
   "metadata": {},
   "outputs": [
    {
     "name": "stdout",
     "output_type": "stream",
     "text": [
      "Enter the first xcoordinate:1\n",
      "Enter the second xcoordinate:2\n",
      "Enter the first ycoordinate:10\n",
      "Enter the second ycoordinate:20\n",
      "The slope of the given formula is: 10.0\n"
     ]
    }
   ],
   "source": [
    "x1=float(input(\"Enter the first xcoordinate:\"))\n",
    "x2=float(input(\"Enter the second xcoordinate:\"))\n",
    "y1=float(input(\"Enter the first ycoordinate:\"))\n",
    "y2=float(input(\"Enter the second ycoordinate:\"))\n",
    "def slope_formula(x11,x22,y11,y22):\n",
    "    gradient= (y22-y11)/(x22-x11)\n",
    "    return gradient\n",
    "Output=slope_formula(x1,x2,y1,y2)\n",
    "print(\"The slope of the given formula is:\",Output)"
   ]
  }
 ],
 "metadata": {
  "kernelspec": {
   "display_name": "Python 3 (ipykernel)",
   "language": "python",
   "name": "python3"
  },
  "language_info": {
   "codemirror_mode": {
    "name": "ipython",
    "version": 3
   },
   "file_extension": ".py",
   "mimetype": "text/x-python",
   "name": "python",
   "nbconvert_exporter": "python",
   "pygments_lexer": "ipython3",
   "version": "3.9.7"
  }
 },
 "nbformat": 4,
 "nbformat_minor": 5
}
